{
 "cells": [
  {
   "cell_type": "code",
   "execution_count": 1,
   "metadata": {},
   "outputs": [
    {
     "name": "stdout",
     "output_type": "stream",
     "text": [
      "/home/nakagawa/fdua_finance_competition\n"
     ]
    }
   ],
   "source": [
    "import os\n",
    "import shutil\n",
    "\n",
    "while not os.path.isfile(\"README.md\"):\n",
    "    %cd ..\n",
    "\n",
    "import numpy as np\n",
    "import pandas as pd\n",
    "from sklearn.metrics import f1_score\n",
    "from sklearn.model_selection import StratifiedKFold\n",
    "from sklearn.preprocessing import OrdinalEncoder\n",
    "from sklearn.utils import compute_sample_weight\n",
    "import lightgbm as lgb\n",
    "from lib.preprocess import get_data\n",
    "\n",
    "pd.set_option('display.max_colwidth', None)"
   ]
  },
  {
   "cell_type": "code",
   "execution_count": 2,
   "metadata": {},
   "outputs": [],
   "source": [
    "FILE_NAME = \"lgbm_baseline\"\n",
    "OFFICIAL_DATA_DIR = \"data/official\""
   ]
  },
  {
   "cell_type": "code",
   "execution_count": 3,
   "metadata": {},
   "outputs": [],
   "source": [
    "X_train, y_train, X_test = get_data(OFFICIAL_DATA_DIR)"
   ]
  },
  {
   "cell_type": "code",
   "execution_count": 5,
   "metadata": {},
   "outputs": [
    {
     "data": {
      "text/html": [
       "<div>\n",
       "<style scoped>\n",
       "    .dataframe tbody tr th:only-of-type {\n",
       "        vertical-align: middle;\n",
       "    }\n",
       "\n",
       "    .dataframe tbody tr th {\n",
       "        vertical-align: top;\n",
       "    }\n",
       "\n",
       "    .dataframe thead th {\n",
       "        text-align: right;\n",
       "    }\n",
       "</style>\n",
       "<table border=\"1\" class=\"dataframe\">\n",
       "  <thead>\n",
       "    <tr style=\"text-align: right;\">\n",
       "      <th></th>\n",
       "      <th>Term</th>\n",
       "      <th>NoEmp</th>\n",
       "      <th>NewExist</th>\n",
       "      <th>CreateJob</th>\n",
       "      <th>RetainedJob</th>\n",
       "      <th>FranchiseCode</th>\n",
       "      <th>RevLineCr</th>\n",
       "      <th>LowDoc</th>\n",
       "      <th>DisbursementDate</th>\n",
       "      <th>Sector</th>\n",
       "      <th>ApprovalDate</th>\n",
       "      <th>ApprovalFY</th>\n",
       "      <th>City</th>\n",
       "      <th>State</th>\n",
       "      <th>BankState</th>\n",
       "      <th>DisbursementGross</th>\n",
       "      <th>GrAppv</th>\n",
       "      <th>SBA_Appv</th>\n",
       "      <th>UrbanRural</th>\n",
       "    </tr>\n",
       "  </thead>\n",
       "  <tbody>\n",
       "    <tr>\n",
       "      <th>0</th>\n",
       "      <td>163</td>\n",
       "      <td>21</td>\n",
       "      <td>1.0</td>\n",
       "      <td>0</td>\n",
       "      <td>0</td>\n",
       "      <td>1</td>\n",
       "      <td>N</td>\n",
       "      <td>N</td>\n",
       "      <td>31-Jan-98</td>\n",
       "      <td>0</td>\n",
       "      <td>22-Sep-06</td>\n",
       "      <td>2006</td>\n",
       "      <td>PHOENIX</td>\n",
       "      <td>AZ</td>\n",
       "      <td>SD</td>\n",
       "      <td>$80,000.00</td>\n",
       "      <td>$80,000.00</td>\n",
       "      <td>$68,000.00</td>\n",
       "      <td>0</td>\n",
       "    </tr>\n",
       "    <tr>\n",
       "      <th>1</th>\n",
       "      <td>84</td>\n",
       "      <td>6</td>\n",
       "      <td>1.0</td>\n",
       "      <td>4</td>\n",
       "      <td>0</td>\n",
       "      <td>0</td>\n",
       "      <td>0</td>\n",
       "      <td>N</td>\n",
       "      <td>31-Oct-93</td>\n",
       "      <td>62</td>\n",
       "      <td>30-Jun-92</td>\n",
       "      <td>1992</td>\n",
       "      <td>MCALESTER</td>\n",
       "      <td>OK</td>\n",
       "      <td>OK</td>\n",
       "      <td>$287,000.00</td>\n",
       "      <td>$287,000.00</td>\n",
       "      <td>$229,600.00</td>\n",
       "      <td>0</td>\n",
       "    </tr>\n",
       "    <tr>\n",
       "      <th>2</th>\n",
       "      <td>242</td>\n",
       "      <td>45</td>\n",
       "      <td>1.0</td>\n",
       "      <td>4</td>\n",
       "      <td>90</td>\n",
       "      <td>0</td>\n",
       "      <td>N</td>\n",
       "      <td>N</td>\n",
       "      <td>31-Aug-01</td>\n",
       "      <td>42</td>\n",
       "      <td>18-Apr-01</td>\n",
       "      <td>2001</td>\n",
       "      <td>HAWTHORNE</td>\n",
       "      <td>NJ</td>\n",
       "      <td>NJ</td>\n",
       "      <td>$31,983.00</td>\n",
       "      <td>$30,000.00</td>\n",
       "      <td>$15,000.00</td>\n",
       "      <td>1</td>\n",
       "    </tr>\n",
       "    <tr>\n",
       "      <th>3</th>\n",
       "      <td>237</td>\n",
       "      <td>4</td>\n",
       "      <td>1.0</td>\n",
       "      <td>0</td>\n",
       "      <td>0</td>\n",
       "      <td>0</td>\n",
       "      <td>N</td>\n",
       "      <td>N</td>\n",
       "      <td>31-Aug-07</td>\n",
       "      <td>33</td>\n",
       "      <td>6-Oct-03</td>\n",
       "      <td>2004</td>\n",
       "      <td>NASHVILLE</td>\n",
       "      <td>TN</td>\n",
       "      <td>SD</td>\n",
       "      <td>$229,000.00</td>\n",
       "      <td>$229,000.00</td>\n",
       "      <td>$229,000.00</td>\n",
       "      <td>0</td>\n",
       "    </tr>\n",
       "    <tr>\n",
       "      <th>4</th>\n",
       "      <td>184</td>\n",
       "      <td>0</td>\n",
       "      <td>1.0</td>\n",
       "      <td>0</td>\n",
       "      <td>0</td>\n",
       "      <td>0</td>\n",
       "      <td>N</td>\n",
       "      <td>N</td>\n",
       "      <td>8-Jun-83</td>\n",
       "      <td>0</td>\n",
       "      <td>17-Dec-99</td>\n",
       "      <td>2000</td>\n",
       "      <td>POMONA</td>\n",
       "      <td>CA</td>\n",
       "      <td>CA</td>\n",
       "      <td>$525,000.00</td>\n",
       "      <td>$525,000.00</td>\n",
       "      <td>$393,750.00</td>\n",
       "      <td>0</td>\n",
       "    </tr>\n",
       "  </tbody>\n",
       "</table>\n",
       "</div>"
      ],
      "text/plain": [
       "   Term  NoEmp  NewExist  CreateJob  RetainedJob  FranchiseCode RevLineCr  \\\n",
       "0   163     21       1.0          0            0              1         N   \n",
       "1    84      6       1.0          4            0              0         0   \n",
       "2   242     45       1.0          4           90              0         N   \n",
       "3   237      4       1.0          0            0              0         N   \n",
       "4   184      0       1.0          0            0              0         N   \n",
       "\n",
       "  LowDoc DisbursementDate  Sector ApprovalDate  ApprovalFY       City State  \\\n",
       "0      N        31-Jan-98       0    22-Sep-06        2006    PHOENIX    AZ   \n",
       "1      N        31-Oct-93      62    30-Jun-92        1992  MCALESTER    OK   \n",
       "2      N        31-Aug-01      42    18-Apr-01        2001  HAWTHORNE    NJ   \n",
       "3      N        31-Aug-07      33     6-Oct-03        2004  NASHVILLE    TN   \n",
       "4      N         8-Jun-83       0    17-Dec-99        2000     POMONA    CA   \n",
       "\n",
       "  BankState DisbursementGross        GrAppv      SBA_Appv  UrbanRural  \n",
       "0        SD       $80,000.00    $80,000.00    $68,000.00            0  \n",
       "1        OK      $287,000.00   $287,000.00   $229,600.00            0  \n",
       "2        NJ       $31,983.00    $30,000.00    $15,000.00            1  \n",
       "3        SD      $229,000.00   $229,000.00   $229,000.00            0  \n",
       "4        CA      $525,000.00   $525,000.00   $393,750.00            0  "
      ]
     },
     "execution_count": 5,
     "metadata": {},
     "output_type": "execute_result"
    }
   ],
   "source": [
    "X_train.head(5)"
   ]
  },
  {
   "cell_type": "code",
   "execution_count": 6,
   "metadata": {},
   "outputs": [],
   "source": [
    "object_columns = X_train.select_dtypes(include=[\"object\"]).columns # get all categorical feature columns\n",
    "date_columns = [\"ApprovalDate\", \"DisbursementDate\"]\n",
    "money_columns = [\"DisbursementGross\", \"GrAppv\", \"SBA_Appv\"]\n",
    "categorical_columns = ['RevLineCr', 'LowDoc', 'City', 'State', 'BankState']"
   ]
  },
  {
   "cell_type": "code",
   "execution_count": 7,
   "metadata": {},
   "outputs": [],
   "source": [
    "day_map = lambda s: float(s)\n",
    "month_map = {\n",
    "    \"Jan\": 1,\n",
    "    \"Feb\": 2,\n",
    "    \"Mar\": 3,\n",
    "    \"Apr\": 4,\n",
    "    \"May\": 5,\n",
    "    \"Jun\": 6,\n",
    "    \"Jul\": 7,\n",
    "    \"Aug\": 8,\n",
    "    \"Sep\": 9,\n",
    "    \"Oct\": 10,\n",
    "    \"Nov\": 11,\n",
    "    \"Dec\": 12\n",
    "}\n",
    "year_map = lambda s: float(\"20\"+s) if float(s) < 50 else float(\"19\"+s) if float(s)>50 else s\n",
    "datemaps_dict = {\n",
    "    \"day\": day_map,\n",
    "    \"month\": month_map,\n",
    "    \"year\": year_map,\n",
    "}"
   ]
  },
  {
   "cell_type": "code",
   "execution_count": 8,
   "metadata": {},
   "outputs": [],
   "source": [
    "for datecol in date_columns:\n",
    "    for i, (key, mapfunc) in enumerate(datemaps_dict.items()):\n",
    "        X_train[datecol + \"_\" + key] = X_train[datecol].str.split(\"-\").str[i].map(mapfunc)\n",
    "        X_train[datecol + \"_\" + key] = X_train[datecol + \"_\" + key].astype(float)\n",
    "        X_test[datecol + \"_\" + key] = X_test[datecol].str.split(\"-\").str[i].map(mapfunc)\n",
    "        X_test[datecol + \"_\" + key] = X_test[datecol + \"_\" + key].astype(float)"
   ]
  },
  {
   "cell_type": "code",
   "execution_count": 9,
   "metadata": {},
   "outputs": [],
   "source": [
    "X_train[money_columns]= X_train[money_columns].applymap(lambda x: x.strip().replace('$', '').replace(',', '')).astype(float)\n",
    "X_test[money_columns]= X_test[money_columns].applymap(lambda x: x.strip().replace('$', '').replace(',', '')).astype(float)"
   ]
  },
  {
   "cell_type": "code",
   "execution_count": 10,
   "metadata": {},
   "outputs": [
    {
     "data": {
      "text/plain": [
       "MIS_Status\n",
       "1    0.892689\n",
       "0    0.107311\n",
       "Name: proportion, dtype: float64"
      ]
     },
     "execution_count": 10,
     "metadata": {},
     "output_type": "execute_result"
    }
   ],
   "source": [
    "y_train.value_counts(normalize=True)"
   ]
  },
  {
   "cell_type": "code",
   "execution_count": 11,
   "metadata": {},
   "outputs": [],
   "source": [
    "def mean_f1score(preds:np.ndarray,eval_data: lgb.Dataset):\n",
    "    y_true = eval_data.get_label()\n",
    "    weight = eval_data.get_weight()\n",
    "    preds = preds.reshape(len(np.unique(y_true)), -1)\n",
    "    preds = preds.argmax(axis = 0)\n",
    "    f1 = f1_score(y_true,preds,average='macro',sample_weight=weight)\n",
    "    return 'f1',f1,True"
   ]
  },
  {
   "cell_type": "code",
   "execution_count": 12,
   "metadata": {},
   "outputs": [],
   "source": [
    "skf = StratifiedKFold(n_splits=5, shuffle=True, random_state=42)\n",
    "\n",
    "params = {\n",
    "    'objective': 'multiclass',\n",
    "    'metric': None,\n",
    "    'num_class': 2,\n",
    "    \"verbosity\": -1,\n",
    "    'seed': 42,\n",
    "    \"boosting_type\": \"gbdt\",\n",
    "}"
   ]
  },
  {
   "cell_type": "code",
   "execution_count": 13,
   "metadata": {},
   "outputs": [
    {
     "name": "stdout",
     "output_type": "stream",
     "text": [
      "Fold 1\n",
      "0, 1:  4231 4231\n",
      "Score: 0.404923970637904\n",
      "----------------------------------------------------------------------------------------------------\n",
      "Fold 2\n",
      "0, 1:  4231 4231\n",
      "Score: 0.40827729881463337\n",
      "----------------------------------------------------------------------------------------------------\n",
      "Fold 3\n",
      "0, 1:  4238 4223\n",
      "Score: 0.40995707276863413\n",
      "----------------------------------------------------------------------------------------------------\n",
      "Fold 4\n",
      "0, 1:  4248 4213\n",
      "Score: 0.412832460811002\n",
      "----------------------------------------------------------------------------------------------------\n",
      "Fold 5\n",
      "0, 1:  4224 4237\n",
      "Score: 0.4101686965386072\n",
      "----------------------------------------------------------------------------------------------------\n"
     ]
    }
   ],
   "source": [
    "best_score = 0 \n",
    "for fold, (trn_idx, val_idx) in enumerate(skf.split(X_train, y_train)):\n",
    "    # split\n",
    "    print(f\"Fold {fold + 1}\")\n",
    "    X_trn = X_train.iloc[trn_idx].copy()\n",
    "    y_trn = y_train.iloc[trn_idx].copy()\n",
    "    X_val = X_train.iloc[val_idx].copy()\n",
    "    y_val = y_train.iloc[val_idx].copy()\n",
    "\n",
    "    # preprocess\n",
    "    X_trn[categorical_columns] = X_trn[categorical_columns].fillna(\"NaN\")\n",
    "    X_val[categorical_columns] = X_val[categorical_columns].fillna(\"NaN\")\n",
    "    oe_dict = dict()\n",
    "    for col in categorical_columns:\n",
    "        oe = OrdinalEncoder(handle_unknown='use_encoded_value', unknown_value=-1)\n",
    "        X_trn.loc[:,col] = oe.fit_transform(X_trn.loc[:,col].values.reshape(-1, 1))\n",
    "        X_val.loc[:,col] = oe.transform(X_val.loc[:,col].values.reshape(-1, 1))\n",
    "        X_trn[col] = X_trn[col].astype(float)\n",
    "        X_val[col] = X_val[col].astype(float)\n",
    "        oe_dict[col] = oe\n",
    "    X_trn = X_trn.drop(date_columns, axis=1)\n",
    "    X_val = X_val.drop(date_columns, axis=1)\n",
    "\n",
    "    # train\n",
    "    train_set = lgb.Dataset(X_trn, y_trn)# ,weight=compute_sample_weight(class_weight='balanced',y=y_trn))\n",
    "    val_set = lgb.Dataset(X_val, y_val, reference=train_set)\n",
    "    model = lgb.train(\n",
    "        params,\n",
    "        train_set,\n",
    "        num_boost_round=10000,\n",
    "        valid_sets=[train_set, val_set],\n",
    "        feval=mean_f1score,\n",
    "    )\n",
    "\n",
    "    # inference\n",
    "    preds = model.predict(X_val)\n",
    "    preds = preds.reshape(len(np.unique(y_val)), -1)\n",
    "    preds = preds.argmax(axis = 0)\n",
    "    print(\"0, 1: \",sum(preds==0), sum(preds==1))\n",
    "    score = f1_score(y_val, preds, average='macro')\n",
    "    if score > best_score:\n",
    "        best_score = score\n",
    "        best_oe = oe_dict\n",
    "        best_model = model\n",
    "    print(f\"Score: {score}\")\n",
    "    print(\"-\" * 100)"
   ]
  },
  {
   "cell_type": "code",
   "execution_count": 14,
   "metadata": {},
   "outputs": [],
   "source": [
    "# submission\n",
    "X_test[categorical_columns] = X_test[categorical_columns].fillna(\"NaN\")\n",
    "for col in categorical_columns:\n",
    "    oe = best_oe[col]\n",
    "    X_test[col] = oe.transform(X_test[col].values.reshape(-1, 1))\n",
    "    X_test[col] = X_test[col].astype(float)\n",
    "X_test = X_test.drop(date_columns, axis=1)\n",
    "preds = best_model.predict(X_test)\n",
    "preds = preds.reshape(len(np.unique(y_train)), -1)\n",
    "preds = preds.argmax(axis = 0)\n",
    "preds = pd.DataFrame(preds, columns=[\"pred\"], index=X_test.index)"
   ]
  },
  {
   "cell_type": "code",
   "execution_count": 15,
   "metadata": {},
   "outputs": [
    {
     "data": {
      "text/plain": [
       "pred\n",
       "0    0.5\n",
       "1    0.5\n",
       "Name: proportion, dtype: float64"
      ]
     },
     "execution_count": 15,
     "metadata": {},
     "output_type": "execute_result"
    }
   ],
   "source": [
    "preds[\"pred\"].value_counts(normalize=True)"
   ]
  },
  {
   "cell_type": "code",
   "execution_count": 18,
   "metadata": {},
   "outputs": [],
   "source": [
    "result_dir = f\"results/{FILE_NAME}\"\n",
    "if os.path.exists(result_dir):\n",
    "    idx = 1\n",
    "    result_dir += f\"_v{idx}\"\n",
    "    while os.path.exists(result_dir):\n",
    "        idx += 1\n",
    "        result_dir = result_dir.split('_v')[0]\n",
    "        result_dir += f\"_v{idx}\"\n",
    "        \n",
    "os.makedirs(result_dir, exist_ok=False)\n",
    "shutil.copytree(\"lib\", os.path.join(result_dir, \"lib\"))\n",
    "shutil.copyfile(f\"notebooks/{FILE_NAME}.ipynb\", os.path.join(result_dir, f\"{FILE_NAME}.ipynb\"))\n",
    "preds.to_csv(os.path.join(result_dir, f\"submission.csv\"), index=True, header=False)"
   ]
  }
 ],
 "metadata": {
  "kernelspec": {
   "display_name": "Python 3",
   "language": "python",
   "name": "python3"
  },
  "language_info": {
   "codemirror_mode": {
    "name": "ipython",
    "version": 3
   },
   "file_extension": ".py",
   "mimetype": "text/x-python",
   "name": "python",
   "nbconvert_exporter": "python",
   "pygments_lexer": "ipython3",
   "version": "3.10.12"
  }
 },
 "nbformat": 4,
 "nbformat_minor": 2
}

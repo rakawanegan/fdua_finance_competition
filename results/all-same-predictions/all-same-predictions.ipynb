{
 "cells": [
  {
   "cell_type": "code",
   "execution_count": 1,
   "metadata": {},
   "outputs": [
    {
     "name": "stdout",
     "output_type": "stream",
     "text": [
      "c:\\Users\\nakag\\fdua_finance_competition\n"
     ]
    }
   ],
   "source": [
    "import os\n",
    "import shutil\n",
    "import pandas as pd\n",
    "\n",
    "if not os.path.isfile(\"README.md\"):\n",
    "    %cd ..\n",
    "FILE_NAME = \"all-same-predictions\""
   ]
  },
  {
   "cell_type": "code",
   "execution_count": 2,
   "metadata": {},
   "outputs": [],
   "source": [
    "preds = pd.read_csv(\"data/official/sample_submission.csv\", header=None, index_col=0)"
   ]
  },
  {
   "cell_type": "code",
   "execution_count": 3,
   "metadata": {},
   "outputs": [],
   "source": [
    "result_dir = f\"results/{FILE_NAME}\"\n",
    "os.makedirs(result_dir, exist_ok=True)\n",
    "shutil.copyfile(f\"notebooks/{FILE_NAME}.ipynb\", os.path.join(result_dir, f\"{FILE_NAME}.ipynb\"))\n",
    "for i in range(2):\n",
    "    preds[1] = i\n",
    "    preds[1] = preds[1].astype(int)\n",
    "    preds.to_csv(f\"results/{FILE_NAME}/all{i}-submission.csv\", header=False)"
   ]
  },
  {
   "attachments": {},
   "cell_type": "markdown",
   "metadata": {},
   "source": [
    "all 0 LB: 0.0980682  \n",
    "all 1 LB: 0.4712544  "
   ]
  }
 ],
 "metadata": {
  "kernelspec": {
   "display_name": "Python 3",
   "language": "python",
   "name": "python3"
  },
  "language_info": {
   "codemirror_mode": {
    "name": "ipython",
    "version": 3
   },
   "file_extension": ".py",
   "mimetype": "text/x-python",
   "name": "python",
   "nbconvert_exporter": "python",
   "pygments_lexer": "ipython3",
   "version": "3.10.5"
  }
 },
 "nbformat": 4,
 "nbformat_minor": 2
}
